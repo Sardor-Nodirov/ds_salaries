{
 "cells": [
  {
   "cell_type": "code",
   "execution_count": 43,
   "metadata": {},
   "outputs": [],
   "source": [
    "%matplotlib inline\n",
    "\n",
    "import numpy as np\n",
    "import pandas as pd\n",
    "import streamlit as st\n",
    "import matplotlib.pyplot as plt\n",
    "from sklearn.linear_model import LinearRegression\n",
    "from sklearn.model_selection import train_test_split, learning_curve\n",
    "from sklearn.metrics import mean_squared_error, r2_score"
   ]
  },
  {
   "cell_type": "code",
   "execution_count": 148,
   "metadata": {},
   "outputs": [],
   "source": [
    "# Load the dataset\n",
    "data = pd.read_csv('data/ds_salaries.csv')\n",
    "data.dropna(inplace=True)"
   ]
  },
  {
   "cell_type": "code",
   "execution_count": 64,
   "metadata": {},
   "outputs": [
    {
     "name": "stdout",
     "output_type": "stream",
     "text": [
      "['DE', 'JP', 'GB', 'HN', 'US', 'HU', 'NZ', 'FR', 'IN', 'PK', 'CN', 'GR', 'AE', 'NL', 'MX', 'CA', 'AT', 'NG', 'ES', 'PT', 'DK', 'IT', 'HR', 'LU', 'PL', 'SG', 'RO', 'IQ', 'BR', 'BE', 'UA', 'IL', 'RU', 'MT', 'CL', 'IR', 'CO', 'MD', 'KE', 'SI', 'CH', 'VN', 'AS', 'TR', 'CZ', 'DZ', 'EE', 'MY', 'AU', 'IE']\n",
      "['DE', 'JP', 'GB', 'HN', 'US', 'HU', 'NZ', 'FR', 'IN', 'PK', 'PL', 'PT', 'CN', 'GR', 'AE', 'NL', 'MX', 'CA', 'AT', 'NG', 'PH', 'ES', 'DK', 'RU', 'IT', 'HR', 'BG', 'SG', 'BR', 'IQ', 'VN', 'BE', 'UA', 'MT', 'CL', 'RO', 'IR', 'CO', 'MD', 'KE', 'SI', 'HK', 'TR', 'RS', 'PR', 'LU', 'JE', 'CZ', 'AR', 'DZ', 'TN', 'MY', 'EE', 'AU', 'BO', 'IE', 'CH']\n",
      "['IL', 'BG', 'HK', 'JE', 'PR', 'TN', 'RS', 'BO', 'AR', 'PH', 'AS']\n",
      "IL\n",
      "AS\n"
     ]
    }
   ],
   "source": [
    "data1 = pd.read_csv('data/ds_salaries.csv')\n",
    "\n",
    "employee = data1['employee_residence'].unique()\n",
    "\n",
    "print(data1['company_location'].unique().tolist())\n",
    "print(data1['employee_residence'].unique().tolist())\n",
    "\n",
    "country_codes = list(set(data1['company_location'].unique()) ^ set(data1['employee_residence'].unique()))\n",
    "\n",
    "print(country_codes)\n",
    "\n",
    "for i in country_codes:\n",
    "    if i not in employee:\n",
    "        print(i)"
   ]
  },
  {
   "cell_type": "code",
   "execution_count": 65,
   "metadata": {},
   "outputs": [
    {
     "name": "stdout",
     "output_type": "stream",
     "text": [
      "CZ\n"
     ]
    }
   ],
   "source": [
    "def country_code(name):\n",
    "    codes = ['DE', 'JP', 'GB', 'HN', 'US', 'HU', 'NZ', 'FR', 'IN', 'PK', 'PL', 'PT', 'CN', 'GR', 'AE', 'NL', 'MX', 'CA', 'AT', 'NG', 'PH', 'ES', 'DK', 'RU', 'IT', 'HR', 'BG', 'SG', 'BR', 'IQ', 'VN', 'BE', 'UA', 'MT', 'CL', 'RO', 'IR', 'CO', 'MD', 'KE', 'SI', 'HK', 'TR', 'RS', 'PR', 'LU', 'JE', 'CZ', 'AR', 'DZ', 'TN', 'MY', 'EE', 'AU', 'BO', 'IE', 'CH', 'IL', 'AS']\n",
    "    names = ['Germany', 'Japan', 'United Kingdom', 'Honduras', 'United States', 'Hungary', 'New Zealand', 'France', 'India', 'Pakistan', 'Poland', 'Portugal', 'China', 'Greece', 'United Arab Emirates', 'Netherlands', 'Mexico', 'Canada', 'Austria', 'Nigeria', 'Philippines', 'Spain', 'Denmark', 'Russia', 'Italy', 'Croatia', 'Bulgaria', 'Singapore', 'Brazil', 'Iraq', 'Vietnam', 'Belgium', 'Ukraine', 'Malta', 'Chile', 'Romania', 'Iran', 'Colombia', 'Moldova', 'Kenya', 'Slovenia', 'Hong Kong', 'Turkey', 'Serbia', 'Puerto Rico', 'Luxembourg', 'Jersey', 'Czechia', 'Argentina', 'Algeria', 'Tunisia', 'Malaysia', 'Estonia', 'Australia', 'Bolivia', 'Ireland', 'Switzerland', 'Israel', 'American Samoa']\n",
    "\n",
    "    return codes[names.index(name)]\n",
    "\n",
    "print(country_code('Czechia'))"
   ]
  },
  {
   "cell_type": "code",
   "execution_count": 149,
   "metadata": {},
   "outputs": [
    {
     "name": "stdout",
     "output_type": "stream",
     "text": [
      "   id  work_year experience_level employment_type                   job_title  \\\n",
      "0   0       2020               MI              FT              Data Scientist   \n",
      "1   1       2020               SE              FT  Machine Learning Scientist   \n",
      "2   2       2020               SE              FT           Big Data Engineer   \n",
      "3   3       2020               MI              FT        Product Data Analyst   \n",
      "4   4       2020               SE              FT   Machine Learning Engineer   \n",
      "\n",
      "   salary_in_usd  remote_ratio company_location company_size  \n",
      "0          79833             0               DE            L  \n",
      "1         260000             0               JP            S  \n",
      "2         109024            50               GB            M  \n",
      "3          20000             0               HN            S  \n",
      "4         150000            50               US            L  \n"
     ]
    }
   ],
   "source": [
    "data.drop(['salary', 'salary_currency', 'employee_residence'], axis=1, inplace=True)\n",
    "print(data.head())"
   ]
  },
  {
   "cell_type": "code",
   "execution_count": 150,
   "metadata": {},
   "outputs": [
    {
     "name": "stdout",
     "output_type": "stream",
     "text": [
      "   id  work_year  experience_level employment_type  \\\n",
      "0   0       2020                 1              FT   \n",
      "1   1       2020                 2              FT   \n",
      "2   2       2020                 2              FT   \n",
      "3   3       2020                 1              FT   \n",
      "4   4       2020                 2              FT   \n",
      "\n",
      "                    job_title  salary_in_usd  remote_ratio company_location  \\\n",
      "0              Data Scientist          79833             0               DE   \n",
      "1  Machine Learning Scientist         260000             0               JP   \n",
      "2           Big Data Engineer         109024            50               GB   \n",
      "3        Product Data Analyst          20000             0               HN   \n",
      "4   Machine Learning Engineer         150000            50               US   \n",
      "\n",
      "   company_size  \n",
      "0             2  \n",
      "1             0  \n",
      "2             1  \n",
      "3             0  \n",
      "4             2  \n"
     ]
    }
   ],
   "source": [
    "data['experience_level'] = data['experience_level'].map({'EN': 0, 'MI': 1, 'SE': 2, 'EX': 3})\n",
    "data['company_size'] = data['company_size'].map({'S': 0, 'M': 1, 'L': 2})\n",
    "print(data.head())"
   ]
  },
  {
   "cell_type": "code",
   "execution_count": 151,
   "metadata": {},
   "outputs": [
    {
     "name": "stdout",
     "output_type": "stream",
     "text": [
      "['3D Computer Vision Researcher', 'AI Scientist', 'Analytics Engineer', 'Applied Data Scientist', 'Applied Machine Learning Scientist', 'BI Data Analyst', 'Big Data Architect', 'Big Data Engineer', 'Business Data Analyst', 'Cloud Data Engineer', 'Computer Vision Engineer', 'Computer Vision Software Engineer', 'Data Analyst', 'Data Analytics Engineer', 'Data Analytics Lead', 'Data Analytics Manager', 'Data Architect', 'Data Engineer', 'Data Engineering Manager', 'Data Science Consultant', 'Data Science Engineer', 'Data Science Manager', 'Data Scientist', 'Data Specialist', 'Director of Data Engineering', 'Director of Data Science', 'ETL Developer', 'Finance Data Analyst', 'Financial Data Analyst', 'Head of Data', 'Head of Data Science', 'Head of Machine Learning', 'Lead Data Analyst', 'Lead Data Engineer', 'Lead Data Scientist', 'Lead Machine Learning Engineer', 'ML Engineer', 'Machine Learning Developer', 'Machine Learning Engineer', 'Machine Learning Infrastructure Engineer', 'Machine Learning Manager', 'Machine Learning Scientist', 'Marketing Data Analyst', 'NLP Engineer', 'Principal Data Analyst', 'Principal Data Engineer', 'Principal Data Scientist', 'Product Data Analyst', 'Research Scientist', 'Staff Data Scientist']\n"
     ]
    }
   ],
   "source": [
    "title = data['job_title'].unique()\n",
    "print(sorted(title))"
   ]
  },
  {
   "cell_type": "code",
   "execution_count": 153,
   "metadata": {},
   "outputs": [
    {
     "name": "stdout",
     "output_type": "stream",
     "text": [
      "   id  work_year  experience_level  salary_in_usd  remote_ratio  company_size  \\\n",
      "0   0       2020                 1          79833             0             2   \n",
      "1   1       2020                 2         260000             0             0   \n",
      "2   2       2020                 2         109024            50             1   \n",
      "3   3       2020                 1          20000             0             0   \n",
      "4   4       2020                 2         150000            50             2   \n",
      "\n",
      "   employment_type_CT  employment_type_FL  employment_type_FT  \\\n",
      "0               False               False                True   \n",
      "1               False               False                True   \n",
      "2               False               False                True   \n",
      "3               False               False                True   \n",
      "4               False               False                True   \n",
      "\n",
      "   employment_type_PT  ...  company_location_PL  company_location_PT  \\\n",
      "0               False  ...                False                False   \n",
      "1               False  ...                False                False   \n",
      "2               False  ...                False                False   \n",
      "3               False  ...                False                False   \n",
      "4               False  ...                False                False   \n",
      "\n",
      "   company_location_RO  company_location_RU  company_location_SG  \\\n",
      "0                False                False                False   \n",
      "1                False                False                False   \n",
      "2                False                False                False   \n",
      "3                False                False                False   \n",
      "4                False                False                False   \n",
      "\n",
      "   company_location_SI  company_location_TR  company_location_UA  \\\n",
      "0                False                False                False   \n",
      "1                False                False                False   \n",
      "2                False                False                False   \n",
      "3                False                False                False   \n",
      "4                False                False                False   \n",
      "\n",
      "   company_location_US  company_location_VN  \n",
      "0                False                False  \n",
      "1                False                False  \n",
      "2                False                False  \n",
      "3                False                False  \n",
      "4                 True                False  \n",
      "\n",
      "[5 rows x 110 columns]\n"
     ]
    }
   ],
   "source": [
    "data = pd.get_dummies(data, columns=['employment_type', 'job_title', 'company_location'])\n",
    "print(data.head())"
   ]
  },
  {
   "cell_type": "code",
   "execution_count": 139,
   "metadata": {},
   "outputs": [
    {
     "name": "stdout",
     "output_type": "stream",
     "text": [
      "[False, False, True, False]\n",
      "['employment_type_CT', 'employment_type_FL', 'employment_type_FT', 'employment_type_PT']\n"
     ]
    },
    {
     "data": {
      "text/plain": [
       "[False, False, True, False]"
      ]
     },
     "execution_count": 139,
     "metadata": {},
     "output_type": "execute_result"
    }
   ],
   "source": [
    "['work_year', 'experience_level', 'remote_ratio', 'company_size', 'employment_type_CT', 'employment_type_FL', 'employment_type_FT', 'employment_type_PT', 'job_title_3D Computer Vision Researcher', 'job_title_AI Scientist', 'job_title_Analytics Engineer', 'job_title_Applied Data Scientist', 'job_title_Applied Machine Learning Scientist', 'job_title_BI Data Analyst', 'job_title_Big Data Architect', 'job_title_Big Data Engineer', 'job_title_Business Data Analyst', 'job_title_Cloud Data Engineer', 'job_title_Computer Vision Engineer', 'job_title_Computer Vision Software Engineer', 'job_title_Data Analyst', 'job_title_Data Analytics Engineer', 'job_title_Data Analytics Lead', 'job_title_Data Analytics Manager', 'job_title_Data Architect', 'job_title_Data Engineer', 'job_title_Data Engineering Manager', 'job_title_Data Science Consultant', 'job_title_Data Science Engineer', 'job_title_Data Science Manager', 'job_title_Data Scientist', 'job_title_Data Specialist', 'job_title_Director of Data Engineering', 'job_title_Director of Data Science', 'job_title_ETL Developer', 'job_title_Finance Data Analyst', 'job_title_Financial Data Analyst', 'job_title_Head of Data', 'job_title_Head of Data Science', 'job_title_Head of Machine Learning', 'job_title_Lead Data Analyst', 'job_title_Lead Data Engineer', 'job_title_Lead Data Scientist', 'job_title_Lead Machine Learning Engineer', 'job_title_ML Engineer', 'job_title_Machine Learning Developer', 'job_title_Machine Learning Engineer', 'job_title_Machine Learning Infrastructure Engineer', 'job_title_Machine Learning Manager', 'job_title_Machine Learning Scientist', 'job_title_Marketing Data Analyst', 'job_title_NLP Engineer', 'job_title_Principal Data Analyst', 'job_title_Principal Data Engineer', 'job_title_Principal Data Scientist', 'job_title_Product Data Analyst', 'job_title_Research Scientist', 'job_title_Staff Data Scientist', 'company_location_AE', 'company_location_AS', 'company_location_AT', 'company_location_AU', 'company_location_BE', 'company_location_BR', 'company_location_CA', 'company_location_CH', 'company_location_CL', 'company_location_CN', 'company_location_CO', 'company_location_CZ', 'company_location_DE', 'company_location_DK', 'company_location_DZ', 'company_location_EE', 'company_location_ES', 'company_location_FR', 'company_location_GB', 'company_location_GR', 'company_location_HN', 'company_location_HR', 'company_location_HU', 'company_location_IE', 'company_location_IL', 'company_location_IN', 'company_location_IQ', 'company_location_IR', 'company_location_IT', 'company_location_JP', 'company_location_KE', 'company_location_LU', 'company_location_MD', 'company_location_MT', 'company_location_MX', 'company_location_MY', 'company_location_NG', 'company_location_NL', 'company_location_NZ', 'company_location_PK', 'company_location_PL', 'company_location_PT', 'company_location_RO', 'company_location_RU', 'company_location_SG', 'company_location_SI', 'company_location_TR', 'company_location_UA', 'company_location_US', 'company_location_VN']\n",
    "\n",
    "def group_col(col, target):\n",
    "    group = []\n",
    "    output = []\n",
    "    for i in features:\n",
    "        if i.startswith(col):\n",
    "            group.append(i)\n",
    "            if i == target:\n",
    "                output.append(True)\n",
    "            else:\n",
    "                output.append(False)\n",
    "\n",
    "    print(output)\n",
    "    print(group)\n",
    "    \n",
    "    return output\n",
    "\n",
    "\n",
    "group_col('employment_type', 'employment_type_FT')"
   ]
  },
  {
   "cell_type": "code",
   "execution_count": 154,
   "metadata": {},
   "outputs": [
    {
     "name": "stdout",
     "output_type": "stream",
     "text": [
      "['work_year', 'experience_level', 'remote_ratio', 'company_size', 'employment_type_CT', 'employment_type_FL', 'employment_type_FT', 'employment_type_PT', 'job_title_3D Computer Vision Researcher', 'job_title_AI Scientist', 'job_title_Analytics Engineer', 'job_title_Applied Data Scientist', 'job_title_Applied Machine Learning Scientist', 'job_title_BI Data Analyst', 'job_title_Big Data Architect', 'job_title_Big Data Engineer', 'job_title_Business Data Analyst', 'job_title_Cloud Data Engineer', 'job_title_Computer Vision Engineer', 'job_title_Computer Vision Software Engineer', 'job_title_Data Analyst', 'job_title_Data Analytics Engineer', 'job_title_Data Analytics Lead', 'job_title_Data Analytics Manager', 'job_title_Data Architect', 'job_title_Data Engineer', 'job_title_Data Engineering Manager', 'job_title_Data Science Consultant', 'job_title_Data Science Engineer', 'job_title_Data Science Manager', 'job_title_Data Scientist', 'job_title_Data Specialist', 'job_title_Director of Data Engineering', 'job_title_Director of Data Science', 'job_title_ETL Developer', 'job_title_Finance Data Analyst', 'job_title_Financial Data Analyst', 'job_title_Head of Data', 'job_title_Head of Data Science', 'job_title_Head of Machine Learning', 'job_title_Lead Data Analyst', 'job_title_Lead Data Engineer', 'job_title_Lead Data Scientist', 'job_title_Lead Machine Learning Engineer', 'job_title_ML Engineer', 'job_title_Machine Learning Developer', 'job_title_Machine Learning Engineer', 'job_title_Machine Learning Infrastructure Engineer', 'job_title_Machine Learning Manager', 'job_title_Machine Learning Scientist', 'job_title_Marketing Data Analyst', 'job_title_NLP Engineer', 'job_title_Principal Data Analyst', 'job_title_Principal Data Engineer', 'job_title_Principal Data Scientist', 'job_title_Product Data Analyst', 'job_title_Research Scientist', 'job_title_Staff Data Scientist', 'company_location_AE', 'company_location_AS', 'company_location_AT', 'company_location_AU', 'company_location_BE', 'company_location_BR', 'company_location_CA', 'company_location_CH', 'company_location_CL', 'company_location_CN', 'company_location_CO', 'company_location_CZ', 'company_location_DE', 'company_location_DK', 'company_location_DZ', 'company_location_EE', 'company_location_ES', 'company_location_FR', 'company_location_GB', 'company_location_GR', 'company_location_HN', 'company_location_HR', 'company_location_HU', 'company_location_IE', 'company_location_IL', 'company_location_IN', 'company_location_IQ', 'company_location_IR', 'company_location_IT', 'company_location_JP', 'company_location_KE', 'company_location_LU', 'company_location_MD', 'company_location_MT', 'company_location_MX', 'company_location_MY', 'company_location_NG', 'company_location_NL', 'company_location_NZ', 'company_location_PK', 'company_location_PL', 'company_location_PT', 'company_location_RO', 'company_location_RU', 'company_location_SG', 'company_location_SI', 'company_location_TR', 'company_location_UA', 'company_location_US', 'company_location_VN']\n",
      "108\n"
     ]
    }
   ],
   "source": [
    "features = data.columns.drop(['id', 'salary_in_usd']).tolist()\n",
    "target = 'salary_in_usd'\n",
    "\n",
    "print(features)\n",
    "print(len(features))"
   ]
  },
  {
   "cell_type": "code",
   "execution_count": 155,
   "metadata": {},
   "outputs": [],
   "source": [
    "X = data[features]\n",
    "y = data[target]\n",
    "\n",
    "# Split the data into training and testing sets\n",
    "X_train, X_test, y_train, y_test = train_test_split(X, y, test_size=0.2, random_state=42)"
   ]
  },
  {
   "cell_type": "code",
   "execution_count": 183,
   "metadata": {},
   "outputs": [
    {
     "name": "stdout",
     "output_type": "stream",
     "text": [
      "RMSE: 43912.62454584998\n",
      "R2: 0.4968600681002996\n"
     ]
    }
   ],
   "source": [
    "from xgboost import XGBRegressor\n",
    "model = XGBRegressor(n_estimators=30, learning_rate=0.3, max_depth=3)\n",
    "model.fit(X_train, y_train)\n",
    "\n",
    "y_pred = model.predict(X_test)\n",
    "rmse = mean_squared_error(y_test, y_pred, squared=False)\n",
    "r2 = r2_score(y_test, y_pred)\n",
    "print(f\"RMSE: {rmse}\")\n",
    "print(f\"R2: {r2}\")"
   ]
  },
  {
   "cell_type": "code",
   "execution_count": 185,
   "metadata": {},
   "outputs": [
    {
     "name": "stdout",
     "output_type": "stream",
     "text": [
      "Cross-validated R^2 scores: [0.39430353 0.46625989 0.48878478 0.36484374 0.38195206]\n",
      "Average cross-validation R^2 score: 0.41922880123526624\n"
     ]
    }
   ],
   "source": [
    "from sklearn.model_selection import cross_val_score\n",
    "\n",
    "scores = cross_val_score(model, X, y, scoring='r2', cv=5)\n",
    "print(\"Cross-validated R^2 scores:\", scores)\n",
    "print(\"Average cross-validation R^2 score:\", scores.mean())"
   ]
  },
  {
   "cell_type": "code",
   "execution_count": 186,
   "metadata": {},
   "outputs": [
    {
     "name": "stdout",
     "output_type": "stream",
     "text": [
      "[0.95054624 0.81836249 0.82092246 0.79042122 0.7685122  0.76431864\n",
      " 0.75141694 0.72046332 0.70468855 0.6953538 ]\n",
      "[0.17785532 0.2374441  0.30878333 0.32485156 0.34557779 0.3663827\n",
      " 0.35665047 0.38345356 0.42107108 0.42291396]\n"
     ]
    },
    {
     "data": {
      "image/png": "[encoded data removed]",
      "text/plain": [
       "<Figure size 640x480 with 1 Axes>"
      ]
     },
     "metadata": {},
     "output_type": "display_data"
    }
   ],
   "source": [
    "train_sizes, train_scores, test_scores = learning_curve(model, X, y, cv=5, scoring='r2', train_sizes=np.linspace(.1, 1.0, 10))\n",
    "train_scores_mean = np.mean(train_scores, axis=1)\n",
    "test_scores_mean = np.mean(test_scores, axis=1)\n",
    "\n",
    "print(train_scores_mean)\n",
    "print(test_scores_mean)\n",
    "\n",
    "plt.figure()\n",
    "plt.plot(train_sizes, train_scores_mean, 'o-', color=\"r\", label=\"Training score\")\n",
    "plt.plot(train_sizes, test_scores_mean, 'o-', color=\"g\", label=\"Cross-validation score\")\n",
    "plt.title('Learning curves')\n",
    "plt.xlabel('Training examples')\n",
    "plt.ylabel('Score')\n",
    "plt.legend(loc=\"best\")\n",
    "plt.show()"
   ]
  },
  {
   "cell_type": "code",
   "execution_count": 187,
   "metadata": {},
   "outputs": [],
   "source": [
    "import pickle\n",
    "\n",
    "with open('model.pkl', 'wb') as f:\n",
    "    pickle.dump(model, f)"
   ]
  }
 ],
 "metadata": {
  "kernelspec": {
   "display_name": "Python 3",
   "language": "python",
   "name": "python3"
  },
  "language_info": {
   "codemirror_mode": {
    "name": "ipython",
    "version": 3
   },
   "file_extension": ".py",
   "mimetype": "text/x-python",
   "name": "python",
   "nbconvert_exporter": "python",
   "pygments_lexer": "ipython3",
   "version": "3.10.11"
  }
 },
 "nbformat": 4,
 "nbformat_minor": 2
}
